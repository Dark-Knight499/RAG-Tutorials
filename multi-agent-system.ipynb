{
 "cells": [
  {
   "cell_type": "markdown",
   "id": "f103581a",
   "metadata": {},
   "source": [
    "## Set Up API-KEYS\n",
    "\n",
    "Tavily: [Get your API key](https://app.tavily.com/settings/api-keys)  \n",
    "Google-Gemini: [Get your API key](https://aistudio.google.com/app/apikey)"
   ]
  },
  {
   "cell_type": "code",
   "execution_count": null,
   "id": "0f180804",
   "metadata": {},
   "outputs": [],
   "source": [
    "import os\n",
    "os.environ[\"TAVILY_API_KEY\"] = \"\"\n",
    "os.environ[\"GOOGLE_API_KEY\"] = \"\""
   ]
  },
  {
   "cell_type": "code",
   "execution_count": 354,
   "id": "f20d92ca",
   "metadata": {},
   "outputs": [],
   "source": [
    "from langchain_google_genai import ChatGoogleGenerativeAI\n",
    "llm = ChatGoogleGenerativeAI(model=\"gemini-1.5-flash\")"
   ]
  },
  {
   "cell_type": "code",
   "execution_count": 355,
   "id": "a718134d",
   "metadata": {},
   "outputs": [],
   "source": [
    "from typing import Literal, Annotated, Sequence, List\n",
    "from langchain_core.messages import BaseMessage, HumanMessage\n",
    "from typing_extensions import TypedDict\n",
    "from langgraph.graph import StateGraph, MessagesState, add_messages, START, END\n",
    "from langgraph.prebuilt import ToolNode, tools_condition\n",
    "from langgraph.types import Command \n",
    "\n",
    "# Define available agents\n",
    "members = [\"web_researcher\", \"rag\", \"nl2sql\"]\n",
    "# Add FINISH as an option for task completion\n",
    "options = members + [\"FINISH\"]\n",
    "\n",
    "# Create system prompt for supervisor\n",
    "system_prompt = (\n",
    "    \"You are a supervisor tasked with managing a conversation between the\"\n",
    "    f\" following workers: {members}. Each worker has access to specific tools. \"\n",
    "    \"Based on the user's request, you must decide which worker should act next. \"\n",
    "    \"If a worker needs to use a tool, clearly instruct them to do so. \"\n",
    "    \"When the user's request is fully addressed, respond with FINISH.\"\n",
    ")\n",
    "\n",
    "# Define router type for structured output\n",
    "class Router(TypedDict):\n",
    "    \"\"\"Worker to route to next. If no workers needed, route to FINISH.\"\"\"\n",
    "    next: Literal[\"web_researcher\", \"rag\", \"nl2sql\", \"FINISH\"]\n",
    "\n",
    "# Create supervisor node function\n",
    "def supervisor_node(state: MessagesState) -> Command[Literal[\"web_researcher\", \"rag\", \"nl2sql\", \"__end__\"]]:\n",
    "    messages = [\n",
    "        {\"role\": \"system\", \"content\": system_prompt},\n",
    "    ] + state[\"messages\"]\n",
    "    response = llm.with_structured_output(Router).invoke(messages)\n",
    "    goto = response[\"next\"]\n",
    "    print(f\"Next Worker: {goto}\")\n",
    "    if goto == \"FINISH\":\n",
    "        goto = END\n",
    "    return Command(goto=goto)\n"
   ]
  },
  {
   "cell_type": "code",
   "execution_count": 356,
   "id": "6fe6b32f",
   "metadata": {},
   "outputs": [],
   "source": [
    "from typing import Annotated, Sequence\n",
    "from typing_extensions import TypedDict  # Added\n",
    "from langchain_core.messages import BaseMessage, SystemMessage  # Added SystemMessage, ensured BaseMessage\n",
    "from langgraph.graph import StateGraph, add_messages\n",
    "from langgraph.prebuilt import ToolNode, tools_condition\n",
    "\n",
    "\n",
    "class AgentState(TypedDict):\n",
    "    \"\"\"The state of the agent.\"\"\"\n",
    "    messages: Annotated[Sequence[BaseMessage], add_messages]\n",
    "\n",
    "\n",
    "def create_agent(llm, tools, agent_name: str):  # Added agent_name\n",
    "    llm_with_tools = llm.bind_tools(tools)\n",
    "\n",
    "    tool_descriptions = \"\\n\".join([f\"- {tool.name}: {getattr(tool, 'description', 'No description available')}\" for tool in tools])\n",
    "    agent_system_prompt_content = (\n",
    "        f\"You are the '{agent_name}'. Your primary goal is to assist based on the user's most recent request. \"\n",
    "        f\"You have the following tools available:\\n{tool_descriptions}\\n\\n\"\n",
    "        \"Review the latest message in the conversation. If any of your tools are suitable for addressing it, \"\n",
    "        \"you MUST invoke the tool with the correct arguments. \"\n",
    "    )\n",
    "\n",
    "    def chatbot(state: AgentState):\n",
    "        current_messages = list(state[\"messages\"])\n",
    "        agent_system_message = SystemMessage(content=agent_system_prompt_content)\n",
    "        messages_for_llm = [agent_system_message] + current_messages\n",
    "        response_message = llm_with_tools.invoke(messages_for_llm)\n",
    "        return {\"messages\": [response_message]}\n",
    "\n",
    "    graph_builder = StateGraph(AgentState)\n",
    "    graph_builder.add_node(\"agent\", chatbot)\n",
    "    tool_node = ToolNode(tools=tools)\n",
    "    graph_builder.add_node(\"tools\", tool_node)\n",
    "    graph_builder.add_conditional_edges(\n",
    "        \"agent\",\n",
    "        tools_condition,\n",
    "    )\n",
    "    graph_builder.add_edge(\"tools\", \"agent\")\n",
    "    graph_builder.set_entry_point(\"agent\")\n",
    "    return graph_builder.compile()\n"
   ]
  },
  {
   "cell_type": "markdown",
   "id": "ee2b0d74",
   "metadata": {},
   "source": [
    "## Tool Creation"
   ]
  },
  {
   "cell_type": "markdown",
   "id": "e742570e",
   "metadata": {},
   "source": [
    "### Web Search Tool"
   ]
  },
  {
   "cell_type": "code",
   "execution_count": 357,
   "id": "fce99460",
   "metadata": {},
   "outputs": [],
   "source": [
    "from langchain_community.tools.tavily_search import TavilySearchResults\n",
    "web_search_tool = TavilySearchResults(\n",
    "    max_results=2,\n",
    "    description=\"Tool to perform web search queries using Tavily.\"\n",
    ")"
   ]
  },
  {
   "cell_type": "code",
   "execution_count": 358,
   "id": "56b6523a",
   "metadata": {},
   "outputs": [
    {
     "data": {
      "text/plain": [
       "[{'title': 'Google - Wikipedia',\n",
       "  'url': 'https://en.wikipedia.org/wiki/Google',\n",
       "  'content': 'On August 10, 2015, Google announced plans to reorganize its various interests as a [conglomerate](/wiki/Conglomerate_(company) \"Conglomerate (company)\") named Alphabet Inc. Google became Alphabet\\'s largest subsidiary and the [umbrella company](/wiki/Umbrella_company \"Umbrella company\") for Alphabet\\'s Internet interests. Upon completion of the restructuring, Sundar Pichai became [CEO](/wiki/Chief_executive_officer \"Chief executive officer\") of Google, replacing Larry Page, who became CEO of [...] * [Alan Mulally](/wiki/Alan_Mulally \"Alan Mulally\") * [Rick Osterloh](/wiki/Rick_Osterloh \"Rick Osterloh\") * [Sundar Pichai](/wiki/Sundar_Pichai \"Sundar Pichai\") (CEO) * [Ruth Porat](/wiki/Ruth_Porat \"Ruth Porat\") (CFO) * [Rajen Sheth](/wiki/Rajen_Sheth \"Rajen Sheth\") * [Hal Varian](/wiki/Hal_Varian \"Hal Varian\") * [Neal Mohan](/wiki/Neal_Mohan \"Neal Mohan\") | | Former | * [Andy Bechtolsheim](/wiki/Andy_Bechtolsheim \"Andy Bechtolsheim\") * [Sergey Brin](/wiki/Sergey_Brin \"Sergey Brin\") [...] Additionally, in 2001 Google\\'s investors felt the need to have a strong internal management, and they agreed to hire [Eric Schmidt](/wiki/Eric_Schmidt \"Eric Schmidt\") as the chairman and CEO of Google.[[49]](#cite_note-Google_Inc-50) Eric was proposed by [John Doerr](/wiki/John_Doerr \"John Doerr\") from Kleiner Perkins. He had been trying to find a CEO that Sergey and Larry would accept for several months, but they rejected several candidates because they wanted to retain control over the',\n",
       "  'score': 0.8377398},\n",
       " {'title': 'Sundar Pichai | Biography, Google, & Facts | Britannica Money',\n",
       "  'url': 'https://www.britannica.com/money/Sundar-Pichai',\n",
       "  'content': '**Sundar Pichai** (born June 10, 1972, Madras \\\\[now Chennai\\\\], [Tamil Nadu](https://www.britannica.com/place/Tamil-Nadu), India) is an Indian-born American executive who was [CEO](https://www.britannica.com/money/chief-executive-officer) of both [Google, Inc.](https://www.britannica.com/money/Google-Inc) (2015– ), and its [holding company](https://www.britannica.com/money/holding-company), Alphabet Inc. (2019– ).\\n\\nEarly life\\n----------',\n",
       "  'score': 0.82117355}]"
      ]
     },
     "execution_count": 358,
     "metadata": {},
     "output_type": "execute_result"
    }
   ],
   "source": [
    "web_search_tool.invoke(\"CEO GOOGLE\")"
   ]
  },
  {
   "cell_type": "markdown",
   "id": "e3a94846",
   "metadata": {},
   "source": [
    "### RAG Tool"
   ]
  },
  {
   "cell_type": "code",
   "execution_count": 359,
   "id": "7a156a28",
   "metadata": {},
   "outputs": [
    {
     "name": "stdout",
     "output_type": "stream",
     "text": [
      "Loaded 5 documents from the folder.\n"
     ]
    }
   ],
   "source": [
    "import os\n",
    "from langchain_core.documents import Document\n",
    "from langchain_text_splitters import RecursiveCharacterTextSplitter\n",
    "\n",
    "def load_documents(folder_path: str) -> List[Document]:\n",
    "    documents = []\n",
    "    for filename in os.listdir(folder_path):\n",
    "        file_path = os.path.join(folder_path, filename)\n",
    "        if filename.endswith('.pdf'):\n",
    "            loader = PyPDFLoader(file_path)\n",
    "        elif filename.endswith('.docx'):\n",
    "            loader = Docx2txtLoader(file_path)\n",
    "        else:\n",
    "            print(f\"Unsupported file type: {filename}\")\n",
    "            continue\n",
    "        documents.extend(loader.load())\n",
    "    return documents\n",
    "\n",
    "folder_path = r\".\\content\\docs\"\n",
    "documents = load_documents(folder_path)\n",
    "print(f\"Loaded {len(documents)} documents from the folder.\")\n"
   ]
  },
  {
   "cell_type": "code",
   "execution_count": 360,
   "id": "e05c12a2",
   "metadata": {},
   "outputs": [
    {
     "name": "stdout",
     "output_type": "stream",
     "text": [
      "Split the documents into 5 chunks.\n"
     ]
    }
   ],
   "source": [
    " text_splitter = RecursiveCharacterTextSplitter(\n",
    "     chunk_size=1000,\n",
    "     chunk_overlap=200,\n",
    "     length_function=len\n",
    " )\n",
    "\n",
    " splits = text_splitter.split_documents(documents)\n",
    " print(f\"Split the documents into {len(splits)} chunks.\")\n"
   ]
  },
  {
   "cell_type": "code",
   "execution_count": 361,
   "id": "d8ac4f74",
   "metadata": {},
   "outputs": [],
   "source": [
    "from langchain_google_genai import GoogleGenerativeAIEmbeddings\n",
    "\n",
    "embedding_function = GoogleGenerativeAIEmbeddings(model=\"models/embedding-001\")"
   ]
  },
  {
   "cell_type": "code",
   "execution_count": 362,
   "id": "a0192c4f",
   "metadata": {},
   "outputs": [],
   "source": [
    " from langchain_chroma import Chroma\n",
    "\n",
    " collection_name = \"my_collection\"\n",
    " vectorstore = Chroma.from_documents(\n",
    "     collection_name=collection_name,\n",
    "     documents=splits,\n",
    "     embedding=embedding_function,\n",
    "     persist_directory=\"./chroma_db\"\n",
    " )\n"
   ]
  },
  {
   "cell_type": "code",
   "execution_count": 363,
   "id": "793afa7f",
   "metadata": {},
   "outputs": [],
   "source": [
    "from langchain.tools import tool\n",
    "from pydantic import BaseModel\n",
    "\n",
    "class RagToolSchema(BaseModel):\n",
    "    question: str\n",
    "\n",
    "@tool(args_schema=RagToolSchema)\n",
    "def retriever_tool(question):\n",
    "    \"\"\"Tool to Retrieve Semantically Similar documents to answer User Questions related to His company NOVA.\n",
    "    This tool has access to data about the Nova company and details about it, so when the user asks, it can answer questions regarding Nova.\"\"\"\n",
    "    print(\"INSIDE RETRIEVER NODE\")\n",
    "    retriever = vectorstore.as_retriever(search_kwargs={\"k\": 2})\n",
    "    retriever_result = retriever.invoke(question)\n",
    "    return \"\\n\\n\".join(doc.page_content for doc in retriever_result)\n"
   ]
  },
  {
   "cell_type": "code",
   "execution_count": 364,
   "id": "7df8090f",
   "metadata": {},
   "outputs": [
    {
     "name": "stdout",
     "output_type": "stream",
     "text": [
      "[Document(id='6846f4f0-354f-4667-a2d8-86044c3cfcab', metadata={'eventtype': 'Poster', 'published': '2017', 'source': '.\\\\content\\\\docs\\\\NIPS-2017-attention-is-all-you-need-Paper.pdf', 'editors': 'I. Guyon and U.V. Luxburg and S. Bengio and H. Wallach and R. Fergus and S. Vishwanathan and R. Garnett', 'moddate': '2018-02-12T21:22:10-08:00', 'book': 'Advances in Neural Information Processing Systems 30', 'producer': 'PyPDF2', 'creator': 'PyPDF', 'publisher': 'Curran Associates, Inc.', 'date': '2017', 'author': 'Ashish Vaswani, Noam Shazeer, Niki Parmar, Jakob Uszkoreit, Llion Jones, Aidan N. Gomez, Łukasz Kaiser, Illia Polosukhin', 'firstpage': '5998', 'lastpage': '6008', 'created': '2017', 'title': 'Attention is All you Need', 'subject': 'Neural Information Processing Systems http://nips.cc/', 'description-abstract': 'The dominant sequence transduction models are based on complex recurrent orconvolutional neural networks in an encoder and decoder configuration. The best performing such models also connect the encoder and decoder through an attentionm echanisms.  We propose a novel, simple network architecture based solely onan attention mechanism, dispensing with recurrence and convolutions entirely.Experiments on two machine translation tasks show these models to be superiorin quality while being more parallelizable and requiring significantly less timeto train. Our single model with 165 million parameters, achieves 27.5 BLEU onEnglish-to-German translation, improving over the existing best ensemble result by over 1 BLEU. On English-to-French translation, we outperform the previoussingle state-of-the-art with model by 0.7 BLEU, achieving a BLEU score of 41.1.', 'creationdate': '', 'total_pages': 11, 'page': 7, 'language': 'en-US', 'description': 'Paper accepted and presented at the Neural Information Processing Systems Conference (http://nips.cc/)', 'page_label': '8', 'type': 'Conference Proceedings'}, page_content='Table 2: The Transformer achieves better BLEU scores than previous state-of-the-art models on the\\nEnglish-to-German and English-to-French newstest2014 tests at a fraction of the training cost.\\nModel\\nBLEU Training Cost (FLOPs)\\nEN-DE EN-FR EN-DE EN-FR\\nByteNet [15] 23.75\\nDeep-Att + PosUnk [32] 39.2 1.0 ·1020\\nGNMT + RL [31] 24.6 39.92 2.3 ·1019 1.4 ·1020\\nConvS2S [8] 25.16 40.46 9.6 ·1018 1.5 ·1020\\nMoE [26] 26.03 40.56 2.0 ·1019 1.2 ·1020\\nDeep-Att + PosUnk Ensemble [32] 40.4 8.0 ·1020\\nGNMT + RL Ensemble [31] 26.30 41.16 1.8 ·1020 1.1 ·1021\\nConvS2S Ensemble [8] 26.36 41.29 7.7 ·1019 1.2 ·1021\\nTransformer (base model) 27.3 38.1 3.3 · 1018\\nTransformer (big) 28.4 41.0 2.3 ·1019\\nLabel Smoothing During training, we employed label smoothing of value ϵls = 0.1 [30]. This\\nhurts perplexity, as the model learns to be more unsure, but improves accuracy and BLEU score.\\n6 Results\\n6.1 Machine Translation\\nOn the WMT 2014 English-to-German translation task, the big transformer model (Transformer (big)'), Document(id='6f7c61ce-b916-44dc-a8ab-95822083597c', metadata={'title': 'Attention is All you Need', 'published': '2017', 'description': 'Paper accepted and presented at the Neural Information Processing Systems Conference (http://nips.cc/)', 'subject': 'Neural Information Processing Systems http://nips.cc/', 'source': '.\\\\content\\\\docs\\\\NIPS-2017-attention-is-all-you-need-Paper.pdf', 'editors': 'I. Guyon and U.V. Luxburg and S. Bengio and H. Wallach and R. Fergus and S. Vishwanathan and R. Garnett', 'author': 'Ashish Vaswani, Noam Shazeer, Niki Parmar, Jakob Uszkoreit, Llion Jones, Aidan N. Gomez, Łukasz Kaiser, Illia Polosukhin', 'language': 'en-US', 'firstpage': '5998', 'creator': 'PyPDF', 'page_label': '8', 'type': 'Conference Proceedings', 'producer': 'PyPDF2', 'book': 'Advances in Neural Information Processing Systems 30', 'total_pages': 11, 'eventtype': 'Poster', 'description-abstract': 'The dominant sequence transduction models are based on complex recurrent orconvolutional neural networks in an encoder and decoder configuration. The best performing such models also connect the encoder and decoder through an attentionm echanisms.  We propose a novel, simple network architecture based solely onan attention mechanism, dispensing with recurrence and convolutions entirely.Experiments on two machine translation tasks show these models to be superiorin quality while being more parallelizable and requiring significantly less timeto train. Our single model with 165 million parameters, achieves 27.5 BLEU onEnglish-to-German translation, improving over the existing best ensemble result by over 1 BLEU. On English-to-French translation, we outperform the previoussingle state-of-the-art with model by 0.7 BLEU, achieving a BLEU score of 41.1.', 'moddate': '2018-02-12T21:22:10-08:00', 'lastpage': '6008', 'created': '2017', 'publisher': 'Curran Associates, Inc.', 'creationdate': '', 'date': '2017', 'page': 7}, page_content='Table 2: The Transformer achieves better BLEU scores than previous state-of-the-art models on the\\nEnglish-to-German and English-to-French newstest2014 tests at a fraction of the training cost.\\nModel\\nBLEU Training Cost (FLOPs)\\nEN-DE EN-FR EN-DE EN-FR\\nByteNet [15] 23.75\\nDeep-Att + PosUnk [32] 39.2 1.0 ·1020\\nGNMT + RL [31] 24.6 39.92 2.3 ·1019 1.4 ·1020\\nConvS2S [8] 25.16 40.46 9.6 ·1018 1.5 ·1020\\nMoE [26] 26.03 40.56 2.0 ·1019 1.2 ·1020\\nDeep-Att + PosUnk Ensemble [32] 40.4 8.0 ·1020\\nGNMT + RL Ensemble [31] 26.30 41.16 1.8 ·1020 1.1 ·1021\\nConvS2S Ensemble [8] 26.36 41.29 7.7 ·1019 1.2 ·1021\\nTransformer (base model) 27.3 38.1 3.3 · 1018\\nTransformer (big) 28.4 41.0 2.3 ·1019\\nLabel Smoothing During training, we employed label smoothing of value ϵls = 0.1 [30]. This\\nhurts perplexity, as the model learns to be more unsure, but improves accuracy and BLEU score.\\n6 Results\\n6.1 Machine Translation\\nOn the WMT 2014 English-to-German translation task, the big transformer model (Transformer (big)')]\n"
     ]
    }
   ],
   "source": [
    "retriever = vectorstore.as_retriever(search_kwargs={\"k\": 2})\n",
    "# pass question\n",
    "retriever_results = retriever.invoke(\"What is transformers?\")\n",
    "print(retriever_results)\n"
   ]
  },
  {
   "cell_type": "markdown",
   "id": "eed6f5b3",
   "metadata": {},
   "source": [
    "### NLSQL Tool\n",
    "\n",
    "Run the db_setup.py to setup the database"
   ]
  },
  {
   "cell_type": "code",
   "execution_count": 365,
   "id": "b737c3d5",
   "metadata": {},
   "outputs": [],
   "source": [
    " from langchain_community.utilities import SQLDatabase\n",
    "\n",
    " db = SQLDatabase.from_uri(\"sqlite:///ecommerce.db\")\n"
   ]
  },
  {
   "cell_type": "code",
   "execution_count": 366,
   "id": "daaaf525",
   "metadata": {},
   "outputs": [],
   "source": [
    "import re\n",
    "\n",
    "def clean_sql_query(text: str) -> str:\n",
    "    \"\"\"\n",
    "    Clean SQL query by removing code block syntax, various SQL tags, backticks,\n",
    "    prefixes, and unnecessary whitespace while preserving the core SQL query.\n",
    "\n",
    "    Args:\n",
    "        text (str): Raw SQL query text that may contain code blocks, tags, and backticks\n",
    "\n",
    "    Returns:\n",
    "        str: Cleaned SQL query\n",
    "    \"\"\"\n",
    "    # Step 1: Remove code block syntax and any SQL-related tags\n",
    "    # This handles variations like ```sql, ```SQL, ```SQLQuery, etc.\n",
    "    block_pattern = r\"```(?:sql|SQL|SQLQuery|mysql|postgresql)?\\s*(.*?)\\s*```\"\n",
    "    text = re.sub(block_pattern, r\"\\1\", text, flags=re.DOTALL)\n",
    "\n",
    "    # Step 2: Handle \"SQLQuery:\" prefix and similar variations\n",
    "    # This will match patterns like \"SQLQuery:\", \"SQL Query:\", \"MySQL:\", etc.\n",
    "    prefix_pattern = r\"^(?:SQL\\s*Query|SQLQuery|MySQL|PostgreSQL|SQL)\\s*:\\s*\"\n",
    "    text = re.sub(prefix_pattern, \"\", text, flags=re.IGNORECASE)\n",
    "\n",
    "    # Step 3: Extract the first SQL statement if there's random text after it\n",
    "    # Look for a complete SQL statement ending with semicolon\n",
    "    sql_statement_pattern = r\"(SELECT.*?;)\"\n",
    "    sql_match = re.search(sql_statement_pattern, text, flags=re.IGNORECASE | re.DOTALL)\n",
    "    if sql_match:\n",
    "        text = sql_match.group(1)\n",
    "\n",
    "    # Step 4: Remove backticks around identifiers\n",
    "    text = re.sub(r'`([^`]*)`', r'\\1', text)\n",
    "\n",
    "    # Step 5: Normalize whitespace\n",
    "    # Replace multiple spaces with single space\n",
    "    text = re.sub(r'\\s+', ' ', text)\n",
    "\n",
    "    # Step 6: Preserve newlines for main SQL keywords to maintain readability\n",
    "    keywords = ['SELECT', 'FROM', 'WHERE', 'GROUP BY', 'HAVING', 'ORDER BY',\n",
    "               'LIMIT', 'JOIN', 'LEFT JOIN', 'RIGHT JOIN', 'INNER JOIN',\n",
    "               'OUTER JOIN', 'UNION', 'VALUES', 'INSERT', 'UPDATE', 'DELETE']\n",
    "\n",
    "    # Case-insensitive replacement for keywords\n",
    "    pattern = '|'.join(r'\\b{}\\b'.format(k) for k in keywords)\n",
    "    text = re.sub(f'({pattern})', r'\\n\\1', text, flags=re.IGNORECASE)\n",
    "\n",
    "    # Step 7: Final cleanup\n",
    "    # Remove leading/trailing whitespace and extra newlines\n",
    "    text = text.strip()\n",
    "    text = re.sub(r'\\n\\s*\\n', '\\n', text)\n",
    "\n",
    "    return text\n"
   ]
  },
  {
   "cell_type": "code",
   "execution_count": 367,
   "id": "bf6148bc",
   "metadata": {},
   "outputs": [],
   "source": [
    " from langchain.chains import create_sql_query_chain\n",
    " from langchain_community.tools.sql_database.tool import QuerySQLDataBaseTool\n",
    " from operator import itemgetter\n",
    " import re\n",
    " from langchain_core.output_parsers import StrOutputParser\n",
    " from langchain_core.prompts import PromptTemplate\n",
    " from langchain_core.runnables import RunnablePassthrough, RunnableLambda\n",
    "\n",
    " class SQLToolSchema(BaseModel):\n",
    "     question: str\n",
    "\n",
    " @tool(args_schema=SQLToolSchema)\n",
    " def nl2sql_tool(question):\n",
    "   \"\"\"Tool to Generate and Execute SQL Query to answer User Questions related to an ecommerce store\"\"\"\n",
    "   print(\"INSIDE NL2SQL TOOL\")\n",
    "   execute_query = QuerySQLDataBaseTool(db=db)\n",
    "   write_query = create_sql_query_chain(llm, db)\n",
    "\n",
    "   chain = (\n",
    "       RunnablePassthrough.assign(query=write_query | RunnableLambda(clean_sql_query)).assign(\n",
    "           result=itemgetter(\"query\") | execute_query\n",
    "       )\n",
    "   )\n",
    "\n",
    "   response = chain.invoke({\"question\": question})\n",
    "   return response['result']\n"
   ]
  },
  {
   "cell_type": "code",
   "execution_count": 368,
   "id": "5edf9ec9",
   "metadata": {},
   "outputs": [
    {
     "name": "stdout",
     "output_type": "stream",
     "text": [
      "INSIDE NL2SQL TOOL\n",
      "Answer: [(5, 4997.41)]\n",
      "Answer: [(5, 4997.41)]\n"
     ]
    }
   ],
   "source": [
    " question = \"Most expensive order?\"\n",
    " result = nl2sql_tool.invoke({\"question\": question})\n",
    " print(f\"Answer: {result}\")\n"
   ]
  },
  {
   "cell_type": "markdown",
   "id": "9aa68133",
   "metadata": {},
   "source": [
    "## Agent Creation"
   ]
  },
  {
   "cell_type": "code",
   "execution_count": 369,
   "id": "cc3d291f",
   "metadata": {},
   "outputs": [],
   "source": [
    "websearch_agent = create_agent(llm, [web_search_tool], \"Web Researcher Agent\")\n",
    "\n",
    "def web_research_node(state: MessagesState) -> Command[Literal[\"supervisor\"]]:\n",
    "    result = websearch_agent.invoke(state)\n",
    "    return Command(\n",
    "        update={\n",
    "            \"messages\": [\n",
    "                HumanMessage(content=result[\"messages\"][-1].content, name=\"web_researcher\")\n",
    "            ]\n",
    "        },\n",
    "        goto=\"supervisor\",\n",
    "    )"
   ]
  },
  {
   "cell_type": "code",
   "execution_count": 370,
   "id": "77e64ff8",
   "metadata": {},
   "outputs": [],
   "source": [
    "rag_agent = create_agent(llm, [retriever_tool], \"RAG Agent\")\n",
    "\n",
    "def rag_node(state: MessagesState) -> Command[Literal[\"supervisor\"]]:\n",
    "    result = rag_agent.invoke(state)\n",
    "    return Command(\n",
    "        update={\n",
    "            \"messages\": [\n",
    "                HumanMessage(content=result[\"messages\"][-1].content, name=\"rag\")\n",
    "            ]\n",
    "        },\n",
    "        goto=\"supervisor\",\n",
    "    )\n"
   ]
  },
  {
   "cell_type": "code",
   "execution_count": 371,
   "id": "3920ae5a",
   "metadata": {},
   "outputs": [],
   "source": [
    "nl2sql_agent = create_agent(llm, [nl2sql_tool], \"NL2SQL Agent\")\n",
    "\n",
    "def nl2sql_node(state: MessagesState) -> Command[Literal[\"supervisor\"]]:\n",
    "    result = nl2sql_agent.invoke(state)\n",
    "    return Command(\n",
    "        update={\n",
    "            \"messages\": [\n",
    "                HumanMessage(content=result[\"messages\"][-1].content, name=\"nl2sql\")\n",
    "            ]\n",
    "        },\n",
    "        goto=\"supervisor\",\n",
    "    )\n"
   ]
  },
  {
   "cell_type": "markdown",
   "id": "e387e179",
   "metadata": {},
   "source": [
    "## Putting It All Together\n"
   ]
  },
  {
   "cell_type": "code",
   "execution_count": 372,
   "id": "ae600d47",
   "metadata": {},
   "outputs": [],
   "source": [
    "builder = StateGraph(MessagesState)\n",
    "builder.add_edge(START, \"supervisor\")\n",
    "builder.add_node(\"supervisor\", supervisor_node)\n",
    "builder.add_node(\"web_researcher\", web_research_node)\n",
    "builder.add_node(\"rag\", rag_node)\n",
    "builder.add_node(\"nl2sql\", nl2sql_node)\n",
    "graph = builder.compile()\n"
   ]
  },
  {
   "cell_type": "markdown",
   "id": "a76807fd",
   "metadata": {},
   "source": [
    "## Visualise the controlflow"
   ]
  },
  {
   "cell_type": "code",
   "execution_count": 373,
   "id": "6fd63e2c",
   "metadata": {},
   "outputs": [
    {
     "data": {
      "image/png": "[encoded data removed]",
      "text/plain": [
       "<IPython.core.display.Image object>"
      ]
     },
     "metadata": {},
     "output_type": "display_data"
    }
   ],
   "source": [
    "from IPython.display import Image, display\n",
    "\n",
    "try:\n",
    "    display(Image(graph.get_graph().draw_mermaid_png()))\n",
    "except Exception:\n",
    "    # You can put your exception handling code here\n",
    "    pass\n"
   ]
  },
  {
   "cell_type": "markdown",
   "id": "aeabbb16",
   "metadata": {},
   "source": [
    "## Testing\n"
   ]
  },
  {
   "cell_type": "code",
   "execution_count": 374,
   "id": "fa5a20ef",
   "metadata": {},
   "outputs": [
    {
     "name": "stdout",
     "output_type": "stream",
     "text": [
      "Next Worker: web_researcher\n",
      "Next Worker: FINISH\n",
      "Next Worker: FINISH\n"
     ]
    },
    {
     "data": {
      "text/plain": [
       "{'messages': [HumanMessage(content='Find the founder of FutureSmart AI and then do a web research you can do it', additional_kwargs={}, response_metadata={}, id='b2c1ebe9-4aab-4a98-a410-3fedb06ccfd8'),\n",
       "  HumanMessage(content='Based on my research, Pradip Nichite is the founder of FutureSmart AI.', additional_kwargs={}, response_metadata={}, name='web_researcher', id='acde4857-6e99-43bf-927f-1de8854c3706')]}"
      ]
     },
     "execution_count": 374,
     "metadata": {},
     "output_type": "execute_result"
    }
   ],
   "source": [
    "# Example: Complex Query Using Multiple Agents\n",
    "input_question = \"Find the founder of FutureSmart AI and then do a web research you can do it\"\n",
    "graph.invoke({\"messages\": [HumanMessage(content=input_question)]})"
   ]
  },
  {
   "cell_type": "code",
   "execution_count": 383,
   "id": "6cd65673",
   "metadata": {},
   "outputs": [
    {
     "name": "stdout",
     "output_type": "stream",
     "text": [
      "Next Worker: nl2sql\n",
      "INSIDE NL2SQL TOOL\n",
      "INSIDE NL2SQL TOOL\n",
      "Next Worker: FINISH\n",
      "Next Worker: FINISH\n"
     ]
    },
    {
     "data": {
      "text/plain": [
       "{'messages': [HumanMessage(content='Most expensive order in database', additional_kwargs={}, response_metadata={}, id='1fd58956-5f3d-442a-b568-a7c5e5f7b485'),\n",
       "  HumanMessage(content='The most expensive order was order number 5, with a total of $4997.41.', additional_kwargs={}, response_metadata={}, name='nl2sql', id='91a40063-caab-4f07-914a-16b62cffa86a')]}"
      ]
     },
     "execution_count": 383,
     "metadata": {},
     "output_type": "execute_result"
    }
   ],
   "source": [
    "# Example: Complex Query Using Multiple Agents\n",
    "input_question = \"Most expensive order in database\"\n",
    "graph.invoke({\"messages\": [HumanMessage(content=input_question)]})"
   ]
  },
  {
   "cell_type": "code",
   "execution_count": 377,
   "id": "d1489471",
   "metadata": {},
   "outputs": [
    {
     "name": "stdout",
     "output_type": "stream",
     "text": [
      "Next Worker: rag\n",
      "INSIDE RETRIEVER NODE\n",
      "INSIDE RETRIEVER NODE\n",
      "Next Worker: FINISH\n",
      "Next Worker: FINISH\n"
     ]
    },
    {
     "data": {
      "text/plain": [
       "{'messages': [HumanMessage(content='Tell me about our team', additional_kwargs={}, response_metadata={}, id='ebc444e1-a8ec-484d-adbe-5fe0d34772b6'),\n",
       "  HumanMessage(content='Our team consists of Dr. Aisha Mehta, CEO, an expert in AI ethics and policy; James Lin, CTO, specializing in scalable systems architecture; and Radhika Rao, Head of Product, focusing on user-centric AI design.  We also have strategic partnerships with OpenAI, the NVIDIA Inception Program, and AWS Activate.  You can find our contact information on our website, www.novaai.tech.', additional_kwargs={}, response_metadata={}, name='rag', id='d96b337e-7cd9-4b32-99aa-2d596ea2699e')]}"
      ]
     },
     "execution_count": 377,
     "metadata": {},
     "output_type": "execute_result"
    }
   ],
   "source": [
    "# Example: Complex Query Using Multiple Agents\n",
    "input_question = \"Tell me about our team\"\n",
    "graph.invoke({\"messages\": [HumanMessage(content=input_question)]})"
   ]
  }
 ],
 "metadata": {
  "kernelspec": {
   "display_name": ".venv",
   "language": "python",
   "name": "python3"
  },
  "language_info": {
   "codemirror_mode": {
    "name": "ipython",
    "version": 3
   },
   "file_extension": ".py",
   "mimetype": "text/x-python",
   "name": "python",
   "nbconvert_exporter": "python",
   "pygments_lexer": "ipython3",
   "version": "3.10.17"
  }
 },
 "nbformat": 4,
 "nbformat_minor": 5
}
